{
 "cells": [
  {
   "cell_type": "code",
   "execution_count": 6,
   "metadata": {},
   "outputs": [],
   "source": [
    "#Imports\n",
    "import numpy as np\n",
    "import matplotlib.pyplot as plt\n",
    "from math import pi, sin\n",
    "import scipy.signal"
   ]
  },
  {
   "cell_type": "code",
   "execution_count": 8,
   "metadata": {},
   "outputs": [],
   "source": [
    "\"\"\" 3.a \"\"\"\n",
    "def sampled_sin (signal, Ts, tmin, tmax):\n",
    "    n = np.arange((int)(tmin / Ts), (tmax / Ts))\n",
    "    y_out = map(lambda m : signal(m*Ts), n)\n",
    "    \n",
    "    return n, list(y_out)"
   ]
  },
  {
   "cell_type": "code",
   "execution_count": 10,
   "metadata": {},
   "outputs": [],
   "source": [
    "A = 1.0\n",
    "fm = 2000\n",
    "fs = 100*fm\n",
    "f = 30.0\n",
    "Ts = 1.0 / fs\n",
    "mu = 0.5\n",
    "tmin, tmax = 0, 4.0 / f\n",
    "y = lambda t : A*sin(2*pi*fm*t)\n",
    "m = lambda t : A*sin(2*pi*f*t)\n",
    "s = lambda t : (int(DSBFC) + mu * m(t) )* y(t)\n",
    "n, s_smp = sample_signal(s, Ts, tmin, tmax)"
   ]
  },
  {
   "cell_type": "code",
   "execution_count": null,
   "metadata": {},
   "outputs": [],
   "source": [
    "\"\"\" ΑΜ: 03115082 άρα 0+8+2=10 και 1+0=1 οπότε fm = 1 kHz \"\"\"\n",
    "fm = 1*10**3 #Hz\n",
    "Tm = 1.0 / fm #sec\n",
    "A = 1 #Volt\n",
    "z = lambda t : A*sin(2*pi*fm*t)\n",
    "\n",
    "fs2 = 100*fm\n",
    "Ts2 = 1.0 / fs2\n",
    "mu = 0.5\n",
    "m = lambda t : sin(2*pi*35*t)\n",
    "\n",
    "s = lambda t : (int(DSBFC) + mu * m(t) )* y(t)\n",
    "\n",
    "tmin, tmax = 0, 4*Tm #4 periods\n",
    "n, y = sampled_sin (s, Ts2, tmin, tmax)"
   ]
  }
 ],
 "metadata": {
  "kernelspec": {
   "display_name": "Python 3",
   "language": "python",
   "name": "python3"
  },
  "language_info": {
   "codemirror_mode": {
    "name": "ipython",
    "version": 3
   },
   "file_extension": ".py",
   "mimetype": "text/x-python",
   "name": "python",
   "nbconvert_exporter": "python",
   "pygments_lexer": "ipython3",
   "version": "3.7.5"
  }
 },
 "nbformat": 4,
 "nbformat_minor": 2
}
